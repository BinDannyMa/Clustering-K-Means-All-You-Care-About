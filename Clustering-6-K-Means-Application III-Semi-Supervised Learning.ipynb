{
 "cells": [
  {
   "cell_type": "markdown",
   "metadata": {},
   "source": [
    "# K-Means Application: Semi-supervised Learning\n",
    "\n",
    "K-Means clustering algorithm can be used in semi-supervised learning.\n",
    "\n",
    "In a semi-supervised learning problem we have plenty of unlabeled instances and very few labeled instances.\n",
    "\n",
    "\n",
    "### Example: Photo-Hosting Service\n",
    "\n",
    "As an example of semi-supervised learning, consider a photo-hosting service. \n",
    "\n",
    "It helps to tag each person on the photos by combining unsupervised and supervised learning.\n",
    "\n",
    "In the unsupervised learning part, it takes all **unlabeled** photos. Then it clusters the photos to recognize that the same person X shows up in photos 3, 9, and 32, while another person Y shows up in photos 8, 22, and 87. \n",
    "\n",
    "Then, the system needs the label for these people. We assign labels manually and apply a supervised algorithm so that it can assign label for each person. \n",
    "\n",
    "\n",
    "## Tasks\n",
    "\n",
    "We will use a handwritten digits dataset to perform semi-supervised learning.\n",
    "\n",
    "- Step 1: Use K-Means algorithm to create $k$ clusters.\n",
    "- Step 2: Identify $k$ representative images from the clusters (one image per cluster).\n",
    "- Step 3: Manually label these $k$ images.\n",
    "- Step 4: Perform classification using manually labeled $k$ representative images.\n",
    "\n",
    "\n",
    "We perform Following experiments.\n",
    "\n",
    "- Experiment 1: Classify the data using ALL labeled instances and compute accuracy.\n",
    "\n",
    "- Experiment 2: Classify the data using only $k$ labeled instances and compute accuracy.\n",
    "\n",
    "- Experiment 3: Perform semi-supervised learning for classification and compute accuracy.\n",
    "\n",
    "\n",
    "Finally, we compare the accuracies and discuss some optimization techniques."
   ]
  },
  {
   "cell_type": "code",
   "execution_count": 1,
   "metadata": {},
   "outputs": [],
   "source": [
    "import numpy as np\n",
    "%matplotlib inline\n",
    "import matplotlib as mpl\n",
    "import matplotlib.pyplot as plt\n",
    "\n",
    "from sklearn.datasets import load_digits\n",
    "from sklearn.cluster import KMeans\n",
    "from sklearn.linear_model import LogisticRegression\n",
    "\n",
    "from sklearn.model_selection import train_test_split"
   ]
  },
  {
   "cell_type": "markdown",
   "metadata": {},
   "source": [
    "## Dataset\n",
    "\n",
    "We will use a handwritten digits dataset.\n",
    "\n",
    "It has 1,797 images. \n",
    "\n",
    "Each image is grayscale 8 x 8 pixels, and each feature simply represents one pixel’s intensity, from 0 (white) to 255 (black).\n",
    "\n",
    "Thus, each image has **64 features**.\n",
    "\n",
    "First, we load the data directly from cloud using Scikit-Learn."
   ]
  },
  {
   "cell_type": "code",
   "execution_count": 2,
   "metadata": {},
   "outputs": [
    {
     "name": "stdout",
     "output_type": "stream",
     "text": [
      "(1797, 64)\n"
     ]
    }
   ],
   "source": [
    "X_digits, y_digits = load_digits(return_X_y=True)\n",
    "\n",
    "print(X_digits.shape)"
   ]
  },
  {
   "cell_type": "markdown",
   "metadata": {},
   "source": [
    "## Create Train and Test Dataset\n",
    "\n",
    "We use sklearn's train_test_split function to spilt the dataset into training and test subsets. The data is shuffled by default before splitting."
   ]
  },
  {
   "cell_type": "code",
   "execution_count": 3,
   "metadata": {},
   "outputs": [
    {
     "name": "stdout",
     "output_type": "stream",
     "text": [
      "Dimension of X_train:  (1347, 64)\n"
     ]
    }
   ],
   "source": [
    "X_train, X_test, y_train, y_test = train_test_split(X_digits, y_digits, random_state=42)\n",
    "\n",
    "print(\"Dimension of X_train: \", X_train.shape)"
   ]
  },
  {
   "cell_type": "markdown",
   "metadata": {},
   "source": [
    "\n",
    "## Experiment 1: Classify the Data using ALL Labeled Instances \n",
    "\n",
    "We train a Logistic Regression classifier with **ALL** labeled instances."
   ]
  },
  {
   "cell_type": "code",
   "execution_count": 4,
   "metadata": {},
   "outputs": [
    {
     "name": "stdout",
     "output_type": "stream",
     "text": [
      "Accuracy (all labeled Instances): 0.968889\n"
     ]
    }
   ],
   "source": [
    "log_reg = LogisticRegression(multi_class=\"ovr\", solver=\"lbfgs\", max_iter=5000, random_state=42)\n",
    "log_reg.fit(X_train, y_train)\n",
    "\n",
    "accuracy_labeled_data_all = log_reg.score(X_test, y_test)\n",
    "\n",
    "print(\"Accuracy (all labeled Instances): %f\" % (accuracy_labeled_data_all ))"
   ]
  },
  {
   "cell_type": "markdown",
   "metadata": {},
   "source": [
    "## Experiment 2: Classify the Data using Only $k$ Labeled Instances\n",
    "\n",
    "We train a Logistic Regression classifier with only $k = 50$ labeled instances."
   ]
  },
  {
   "cell_type": "code",
   "execution_count": 5,
   "metadata": {},
   "outputs": [
    {
     "name": "stdout",
     "output_type": "stream",
     "text": [
      "Accuracy (50 labeled Instances): 0.833333\n"
     ]
    }
   ],
   "source": [
    "n_labeled = 50\n",
    "\n",
    "log_reg = LogisticRegression(multi_class=\"ovr\", solver=\"lbfgs\", random_state=42)\n",
    "log_reg.fit(X_train[:n_labeled], y_train[:n_labeled])\n",
    "log_reg.score(X_test, y_test)\n",
    "\n",
    "\n",
    "accuracy_labeled_data = log_reg.score(X_test, y_test)\n",
    "\n",
    "print(\"Accuracy (%d labeled Instances): %f\" % (n_labeled, accuracy_labeled_data ))"
   ]
  },
  {
   "cell_type": "markdown",
   "metadata": {},
   "source": [
    "## Experiment 3: Perform Semi-Supervised Learning for Classification \n",
    "\n",
    "We perform semi-supervised learning by using the four steps mentioned earlier.\n",
    "\n",
    "First we perform step 1 and 2.\n",
    "\n",
    "- Step 1: Use K-Means algorithm to create $k$ clusters.\n",
    "- Step 2: Identify $k$ representative images from the clusters (one image per cluster)."
   ]
  },
  {
   "cell_type": "code",
   "execution_count": 6,
   "metadata": {},
   "outputs": [],
   "source": [
    "# Number of clusters\n",
    "k = 50\n",
    "\n",
    "\n",
    "# Step 1: Use K-Means algorithm to create $k$ clusters.\n",
    "kmeans = KMeans(n_clusters=k, random_state=42)\n",
    "\n",
    "\n",
    "# Step 2: Identify $k$ representative images from the clusters (one image per cluster).\n",
    "\n",
    "'''\n",
    "Step 2(a):\n",
    "For each data compute distances from all centroids\n",
    "    - There will be k number of columns for each data\n",
    "'''\n",
    "\n",
    "X_digits_dist = kmeans.fit_transform(X_train)\n",
    "\n",
    "'''\n",
    "Step 2(b):\n",
    "Consider column 1 (it represents the distance to cluster center 1)\n",
    "  - There are n distances to cluster center 1\n",
    "  - Find the index of the data point that is closest to cluster center 1\n",
    "Repeat this for k columns\n",
    "We will get k data points (their indices) that are closest to the k cluster centers\n",
    "In other words, these k data points are representative of the clusters\n",
    "'''\n",
    "representative_digit_idx = np.argmin(X_digits_dist, axis=0)\n",
    "\n",
    "'''\n",
    "Step 2(c):\n",
    "Using the indices of the k data points, get those data points\n",
    "   These k data points are the new features\n",
    "\n",
    "'''\n",
    "X_representative_digits = X_train[representative_digit_idx]"
   ]
  },
  {
   "cell_type": "markdown",
   "metadata": {},
   "source": [
    "## Experiment 3: Visualize $k$ Representative Images\n",
    "\n",
    "These images are not completely random instances.\n",
    "\n",
    "Each of them is a representative image of its cluster."
   ]
  },
  {
   "cell_type": "code",
   "execution_count": 7,
   "metadata": {},
   "outputs": [
    {
     "data": {
      "image/png": "[encoded data removed]",
      "text/plain": [
       "<Figure size 720x216 with 50 Axes>"
      ]
     },
     "metadata": {
      "needs_background": "light"
     },
     "output_type": "display_data"
    }
   ],
   "source": [
    "plt.figure(figsize=(10, 3))\n",
    "for index, X_representative_digit in enumerate(X_representative_digits):\n",
    "    plt.subplot(k // 10, 10, index + 1)\n",
    "    plt.imshow(X_representative_digit.reshape(8, 8), cmap=\"binary\", interpolation=\"bilinear\")\n",
    "    plt.axis('off')\n",
    "\n",
    "\n",
    "plt.show()"
   ]
  },
  {
   "cell_type": "markdown",
   "metadata": {},
   "source": [
    "## Experiment 3: Manually Label $k$ Representative Images\n",
    "\n",
    "This is step 3 of semi-supervised learning."
   ]
  },
  {
   "cell_type": "code",
   "execution_count": 8,
   "metadata": {},
   "outputs": [],
   "source": [
    "y_representative_digits = np.array([\n",
    "    4, 8, 0, 6, 8, 3, 7, 7, 9, 2,\n",
    "    5, 5, 8, 5, 2, 1, 2, 9, 6, 1,\n",
    "    1, 6, 9, 0, 8, 3, 0, 7, 4, 1,\n",
    "    6, 5, 2, 4, 1, 8, 6, 3, 9, 2,\n",
    "    4, 2, 9, 4, 7, 6, 2, 3, 1, 1])"
   ]
  },
  {
   "cell_type": "markdown",
   "metadata": {},
   "source": [
    "## Experiment 3: Train the Classifier Using $k$ Representative Images\n",
    "\n",
    "This is step 4 of semi-supervised learning."
   ]
  },
  {
   "cell_type": "code",
   "execution_count": 9,
   "metadata": {},
   "outputs": [
    {
     "name": "stdout",
     "output_type": "stream",
     "text": [
      "Accuracy (50 representative images): 0.922222\n",
      "\n",
      "Reduction in Error Rate: 0.533333\n"
     ]
    }
   ],
   "source": [
    "log_reg = LogisticRegression(multi_class=\"ovr\", solver=\"lbfgs\", max_iter=5000, random_state=42)\n",
    "log_reg.fit(X_representative_digits, y_representative_digits)\n",
    "log_reg.score(X_test, y_test)\n",
    "\n",
    "\n",
    "accuracy_semi_supervised = log_reg.score(X_test, y_test)\n",
    "\n",
    "print(\"Accuracy (%d representative images): %f\" % (k, accuracy_semi_supervised))\n",
    "\n",
    "\n",
    "reduction_in_error = 1 - (1 - accuracy_semi_supervised) / (1 - accuracy_labeled_data)\n",
    "print(\"\\nReduction in Error Rate: %f\" %  reduction_in_error)"
   ]
  },
  {
   "cell_type": "markdown",
   "metadata": {},
   "source": [
    "## Observation: $k$ Labeled Instances\n",
    "\n",
    "The error rate is reduced by more than 53%!\n",
    "\n",
    "\n",
    "## Optimization Techniques\n",
    "\n",
    "Note that we are still using only training the model on 50 instances. \n",
    "\n",
    "Since it's often costly and painful to label instances, especially when it has to be done manually by experts, it's a good idea to make them label representative instances rather than just random instances.\n",
    "\n",
    "### Optimization Through Label Propagation\n",
    "\n",
    "To improve the performance, we can propagate the labels to all the other instances in the same cluster."
   ]
  },
  {
   "cell_type": "code",
   "execution_count": 10,
   "metadata": {},
   "outputs": [],
   "source": [
    "y_train_propagated = np.empty(len(X_train), dtype=np.int32)\n",
    "for i in range(k):\n",
    "    y_train_propagated[kmeans.labels_==i] = y_representative_digits[i]"
   ]
  },
  {
   "cell_type": "code",
   "execution_count": 11,
   "metadata": {},
   "outputs": [
    {
     "name": "stdout",
     "output_type": "stream",
     "text": [
      "Accuracy (propagated labels): 0.933333\n",
      "\n",
      "Reduction in Error Rate: 0.142857\n"
     ]
    }
   ],
   "source": [
    "log_reg = LogisticRegression(multi_class=\"ovr\", solver=\"lbfgs\", max_iter=5000, random_state=42)\n",
    "log_reg.fit(X_train, y_train_propagated)\n",
    "\n",
    "\n",
    "accuracy_propagated_labels = log_reg.score(X_test, y_test)\n",
    "\n",
    "print(\"Accuracy (propagated labels): %f\" % (accuracy_propagated_labels))\n",
    "\n",
    "\n",
    "reduction_in_error = 1 - (1 - accuracy_propagated_labels) / (1 - accuracy_semi_supervised)\n",
    "print(\"\\nReduction in Error Rate: %f\" %  reduction_in_error)"
   ]
  },
  {
   "cell_type": "markdown",
   "metadata": {},
   "source": [
    "## Observation: Optimization Through Label Propagation\n",
    "\n",
    "We have further reduced the error rate by more than 14%!\n",
    "\n",
    "Can we do more optimization?\n",
    "\n",
    "Notice that by propagating the labels to the full cluster, we have must have included some outliers. \n",
    "\n",
    "We could improve performance by propagating the labels only to the instances closest to the centroid.\n",
    "\n",
    "### Optimization Through Partial Propagation of Labels\n",
    "\n",
    "Let's only propagate the labels to the 20th percentile closest to the centroid."
   ]
  },
  {
   "cell_type": "code",
   "execution_count": 12,
   "metadata": {},
   "outputs": [],
   "source": [
    "percentile_closest = 20\n",
    "\n",
    "X_cluster_dist = X_digits_dist[np.arange(len(X_train)), kmeans.labels_]\n",
    "for i in range(k):\n",
    "    in_cluster = (kmeans.labels_ == i)\n",
    "    cluster_dist = X_cluster_dist[in_cluster]\n",
    "    cutoff_distance = np.percentile(cluster_dist, percentile_closest)\n",
    "    above_cutoff = (X_cluster_dist > cutoff_distance)\n",
    "    X_cluster_dist[in_cluster & above_cutoff] = -1"
   ]
  },
  {
   "cell_type": "code",
   "execution_count": 13,
   "metadata": {},
   "outputs": [],
   "source": [
    "partially_propagated = (X_cluster_dist != -1)\n",
    "X_train_partially_propagated = X_train[partially_propagated]\n",
    "y_train_partially_propagated = y_train_propagated[partially_propagated]"
   ]
  },
  {
   "cell_type": "markdown",
   "metadata": {},
   "source": [
    "## Accuracy of the Partially Propagated Labels\n"
   ]
  },
  {
   "cell_type": "code",
   "execution_count": 14,
   "metadata": {},
   "outputs": [
    {
     "name": "stdout",
     "output_type": "stream",
     "text": [
      "Accuracy of the labels in partial propagation:  0.9896907216494846\n"
     ]
    }
   ],
   "source": [
    "propagation_accuracy = np.mean(y_train_partially_propagated == y_train[partially_propagated])\n",
    "\n",
    "print(\"Accuracy of the labels in partial propagation: \", propagation_accuracy)"
   ]
  },
  {
   "cell_type": "markdown",
   "metadata": {},
   "source": [
    "## Train the Logistic Regressor Using Partially Propagated Labels"
   ]
  },
  {
   "cell_type": "code",
   "execution_count": 15,
   "metadata": {},
   "outputs": [
    {
     "name": "stdout",
     "output_type": "stream",
     "text": [
      "Accuracy (propagated labels): 0.940000\n",
      "\n",
      "Reduction in Error Rate: 0.100000\n"
     ]
    }
   ],
   "source": [
    "log_reg = LogisticRegression(multi_class=\"ovr\", solver=\"lbfgs\", max_iter=5000, random_state=42)\n",
    "log_reg.fit(X_train_partially_propagated, y_train_partially_propagated)\n",
    "\n",
    "\n",
    "accuracy_propagated_labels_partially = log_reg.score(X_test, y_test)\n",
    "\n",
    "print(\"Accuracy (propagated labels): %f\" % (accuracy_propagated_labels_partially))\n",
    "\n",
    "\n",
    "reduction_in_error = 1 - (1 - accuracy_propagated_labels_partially) / (1 - accuracy_propagated_labels)\n",
    "print(\"\\nReduction in Error Rate: %f\" %  reduction_in_error)"
   ]
  },
  {
   "cell_type": "markdown",
   "metadata": {},
   "source": [
    "## Observation: Optimization Through Partially Propagated Labels\n",
    "\n",
    "We have further reduced the error rate by 10%!\n",
    "\n",
    "With just 50 labeled instances (just 5 examples per class on average!), we got 94% performance, which is pretty close to the performance of logistic regression on the fully labeled digits dataset (which was 96.9%).\n",
    "\n",
    "This is because the propagated labels are actually pretty good: their accuracy is very close to 99%.\n",
    "\n",
    "\n",
    "## More Optimization?\n",
    "\n",
    "We could now do a few iterations of active learning:\n",
    "\n",
    "- Manually label the instances that the classifier is least sure about, if possible by picking them in distinct clusters.\n",
    "- Train a new model with these additional labels."
   ]
  }
 ],
 "metadata": {
  "kernelspec": {
   "display_name": "Python 3",
   "language": "python",
   "name": "python3"
  },
  "language_info": {
   "codemirror_mode": {
    "name": "ipython",
    "version": 3
   },
   "file_extension": ".py",
   "mimetype": "text/x-python",
   "name": "python",
   "nbconvert_exporter": "python",
   "pygments_lexer": "ipython3",
   "version": "3.7.3"
  }
 },
 "nbformat": 4,
 "nbformat_minor": 2
}
